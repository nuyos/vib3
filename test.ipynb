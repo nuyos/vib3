{
 "cells": [
  {
   "cell_type": "code",
   "execution_count": 1,
   "id": "ed9c008c",
   "metadata": {},
   "outputs": [
    {
     "name": "stdout",
     "output_type": "stream",
     "text": [
      "nnnn\n"
     ]
    }
   ],
   "source": [
    "print(\"nnnn\")"
   ]
  },
  {
   "cell_type": "code",
   "execution_count": 1,
   "id": "8b038fa7",
   "metadata": {},
   "outputs": [
    {
     "name": "stdout",
     "output_type": "stream",
     "text": [
      "Collecting openai\n",
      "  Downloading openai-1.109.0-py3-none-any.whl.metadata (29 kB)\n",
      "Requirement already satisfied: anyio<5,>=3.5.0 in c:\\users\\el11\\miniconda3\\envs\\py313\\lib\\site-packages (from openai) (4.10.0)\n",
      "Collecting distro<2,>=1.7.0 (from openai)\n",
      "  Downloading distro-1.9.0-py3-none-any.whl.metadata (6.8 kB)\n",
      "Requirement already satisfied: httpx<1,>=0.23.0 in c:\\users\\el11\\miniconda3\\envs\\py313\\lib\\site-packages (from openai) (0.28.1)\n",
      "Collecting jiter<1,>=0.4.0 (from openai)\n",
      "  Downloading jiter-0.11.0-cp313-cp313-win_amd64.whl.metadata (5.3 kB)\n",
      "Collecting pydantic<3,>=1.9.0 (from openai)\n",
      "  Downloading pydantic-2.11.9-py3-none-any.whl.metadata (68 kB)\n",
      "Requirement already satisfied: sniffio in c:\\users\\el11\\miniconda3\\envs\\py313\\lib\\site-packages (from openai) (1.3.1)\n",
      "Collecting tqdm>4 (from openai)\n",
      "  Downloading tqdm-4.67.1-py3-none-any.whl.metadata (57 kB)\n",
      "Requirement already satisfied: typing-extensions<5,>=4.11 in c:\\users\\el11\\miniconda3\\envs\\py313\\lib\\site-packages (from openai) (4.15.0)\n",
      "Requirement already satisfied: idna>=2.8 in c:\\users\\el11\\miniconda3\\envs\\py313\\lib\\site-packages (from anyio<5,>=3.5.0->openai) (3.10)\n",
      "Requirement already satisfied: certifi in c:\\users\\el11\\miniconda3\\envs\\py313\\lib\\site-packages (from httpx<1,>=0.23.0->openai) (2025.8.3)\n",
      "Requirement already satisfied: httpcore==1.* in c:\\users\\el11\\miniconda3\\envs\\py313\\lib\\site-packages (from httpx<1,>=0.23.0->openai) (1.0.9)\n",
      "Requirement already satisfied: h11>=0.16 in c:\\users\\el11\\miniconda3\\envs\\py313\\lib\\site-packages (from httpcore==1.*->httpx<1,>=0.23.0->openai) (0.16.0)\n",
      "Collecting annotated-types>=0.6.0 (from pydantic<3,>=1.9.0->openai)\n",
      "  Downloading annotated_types-0.7.0-py3-none-any.whl.metadata (15 kB)\n",
      "Collecting pydantic-core==2.33.2 (from pydantic<3,>=1.9.0->openai)\n",
      "  Downloading pydantic_core-2.33.2-cp313-cp313-win_amd64.whl.metadata (6.9 kB)\n",
      "Collecting typing-inspection>=0.4.0 (from pydantic<3,>=1.9.0->openai)\n",
      "  Downloading typing_inspection-0.4.1-py3-none-any.whl.metadata (2.6 kB)\n",
      "Requirement already satisfied: colorama in c:\\users\\el11\\miniconda3\\envs\\py313\\lib\\site-packages (from tqdm>4->openai) (0.4.6)\n",
      "Downloading openai-1.109.0-py3-none-any.whl (948 kB)\n",
      "   ---------------------------------------- 0.0/948.4 kB ? eta -:--:--\n",
      "   ---------------------------------------- 948.4/948.4 kB 31.8 MB/s  0:00:00\n",
      "Downloading distro-1.9.0-py3-none-any.whl (20 kB)\n",
      "Downloading jiter-0.11.0-cp313-cp313-win_amd64.whl (202 kB)\n",
      "Downloading pydantic-2.11.9-py3-none-any.whl (444 kB)\n",
      "Downloading pydantic_core-2.33.2-cp313-cp313-win_amd64.whl (2.0 MB)\n",
      "   ---------------------------------------- 0.0/2.0 MB ? eta -:--:--\n",
      "   ---------------------------------------- 2.0/2.0 MB 50.3 MB/s  0:00:00\n",
      "Downloading annotated_types-0.7.0-py3-none-any.whl (13 kB)\n",
      "Downloading tqdm-4.67.1-py3-none-any.whl (78 kB)\n",
      "Downloading typing_inspection-0.4.1-py3-none-any.whl (14 kB)\n",
      "Installing collected packages: typing-inspection, tqdm, pydantic-core, jiter, distro, annotated-types, pydantic, openai\n",
      "\n",
      "   ----- ---------------------------------- 1/8 [tqdm]\n",
      "   ----- ---------------------------------- 1/8 [tqdm]\n",
      "   ---------- ----------------------------- 2/8 [pydantic-core]\n",
      "   -------------------- ------------------- 4/8 [distro]\n",
      "   ------------------------------ --------- 6/8 [pydantic]\n",
      "   ------------------------------ --------- 6/8 [pydantic]\n",
      "   ------------------------------ --------- 6/8 [pydantic]\n",
      "   ------------------------------ --------- 6/8 [pydantic]\n",
      "   ------------------------------ --------- 6/8 [pydantic]\n",
      "   ------------------------------ --------- 6/8 [pydantic]\n",
      "   ------------------------------ --------- 6/8 [pydantic]\n",
      "   ------------------------------ --------- 6/8 [pydantic]\n",
      "   ----------------------------------- ---- 7/8 [openai]\n",
      "   ----------------------------------- ---- 7/8 [openai]\n",
      "   ----------------------------------- ---- 7/8 [openai]\n",
      "   ----------------------------------- ---- 7/8 [openai]\n",
      "   ----------------------------------- ---- 7/8 [openai]\n",
      "   ----------------------------------- ---- 7/8 [openai]\n",
      "   ----------------------------------- ---- 7/8 [openai]\n",
      "   ----------------------------------- ---- 7/8 [openai]\n",
      "   ----------------------------------- ---- 7/8 [openai]\n",
      "   ----------------------------------- ---- 7/8 [openai]\n",
      "   ----------------------------------- ---- 7/8 [openai]\n",
      "   ----------------------------------- ---- 7/8 [openai]\n",
      "   ----------------------------------- ---- 7/8 [openai]\n",
      "   ----------------------------------- ---- 7/8 [openai]\n",
      "   ----------------------------------- ---- 7/8 [openai]\n",
      "   ----------------------------------- ---- 7/8 [openai]\n",
      "   ----------------------------------- ---- 7/8 [openai]\n",
      "   ----------------------------------- ---- 7/8 [openai]\n",
      "   ----------------------------------- ---- 7/8 [openai]\n",
      "   ----------------------------------- ---- 7/8 [openai]\n",
      "   ----------------------------------- ---- 7/8 [openai]\n",
      "   ----------------------------------- ---- 7/8 [openai]\n",
      "   ---------------------------------------- 8/8 [openai]\n",
      "\n",
      "Successfully installed annotated-types-0.7.0 distro-1.9.0 jiter-0.11.0 openai-1.109.0 pydantic-2.11.9 pydantic-core-2.33.2 tqdm-4.67.1 typing-inspection-0.4.1\n",
      "Note: you may need to restart the kernel to use updated packages.\n"
     ]
    }
   ],
   "source": [
    "pip install openai"
   ]
  },
  {
   "cell_type": "code",
   "execution_count": null,
   "id": "7d10d4ea",
   "metadata": {},
   "outputs": [],
   "source": []
  }
 ],
 "metadata": {
  "kernelspec": {
   "display_name": "py313",
   "language": "python",
   "name": "python3"
  },
  "language_info": {
   "codemirror_mode": {
    "name": "ipython",
    "version": 3
   },
   "file_extension": ".py",
   "mimetype": "text/x-python",
   "name": "python",
   "nbconvert_exporter": "python",
   "pygments_lexer": "ipython3",
   "version": "3.13.7"
  }
 },
 "nbformat": 4,
 "nbformat_minor": 5
}
